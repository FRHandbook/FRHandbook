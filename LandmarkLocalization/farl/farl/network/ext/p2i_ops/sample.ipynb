{
 "cells": [
  {
   "cell_type": "code",
   "execution_count": 7,
   "metadata": {},
   "outputs": [],
   "source": [
    "import os\n",
    "import torch\n",
    "import torchvision\n",
    "from __init__ import p2i #The compilation succeeds if this line doesn't emit error."
   ]
  },
  {
   "cell_type": "code",
   "execution_count": 9,
   "metadata": {},
   "outputs": [],
   "source": [
    "if not os.path.exists('__temp__'):\n",
    "    os.mkdir('__temp__')"
   ]
  },
  {
   "cell_type": "code",
   "execution_count": 10,
   "metadata": {},
   "outputs": [],
   "source": [
    "background = torch.zeros(1, 3, 128, 128, dtype=torch.float32, device='cuda') # batch x channels x h x w\n",
    "points = torch.tensor([[0.0, 0.0], [0.0, 0.0], [0.0, 0.5], [-0.5, 0.0]], dtype=torch.float32, device='cuda') # npoints x 2\n",
    "point_colors = torch.tensor([[0.5, 0.5, 0.5], [0.5, 0.5, 0.5], [0.0, 0.0, 1.0], [0.0, 1.0, 0.0]], dtype=torch.float32, device='cuda') # npoints x channels\n",
    "batch_inds = torch.tensor([0, 0, 0, 0], dtype=torch.int32, device='cuda') # these points all belong to the first batch\n",
    "\n",
    "result_sum = p2i((points + 1) / 2 * 128, point_colors, batch_inds, background, kernel_radius=30, kernel_kind_str='cos', reduce='sum')\n",
    "torchvision.utils.save_image(result_sum, '__temp__/result_sum.png')\n",
    "\n",
    "result_max = p2i((points + 1) / 2 * 128, point_colors, batch_inds, background, kernel_radius=30, kernel_kind_str='cos', reduce='max')\n",
    "torchvision.utils.save_image(result_max, '__temp__/result_max.png')"
   ]
  }
 ],
 "metadata": {
  "file_extension": ".py",
  "interpreter": {
   "hash": "5d970ca38492937ab97f9985106df353b002534fd652feb30b8446eba87168f8"
  },
  "kernelspec": {
   "display_name": "Python 3.7.7 64-bit ('torch14': conda)",
   "language": "python",
   "name": "python3"
  },
  "language_info": {
   "codemirror_mode": {
    "name": "ipython",
    "version": 3
   },
   "file_extension": ".py",
   "mimetype": "text/x-python",
   "name": "python",
   "nbconvert_exporter": "python",
   "pygments_lexer": "ipython3",
   "version": "3.8.12"
  },
  "mimetype": "text/x-python",
  "name": "python",
  "npconvert_exporter": "python",
  "orig_nbformat": 2,
  "pygments_lexer": "ipython3",
  "version": 3
 },
 "nbformat": 4,
 "nbformat_minor": 2
}
